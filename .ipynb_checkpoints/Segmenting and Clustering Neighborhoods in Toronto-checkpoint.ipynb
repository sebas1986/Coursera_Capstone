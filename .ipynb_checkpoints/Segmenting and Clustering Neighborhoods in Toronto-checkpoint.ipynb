{
 "cells": [
  {
   "cell_type": "markdown",
   "metadata": {},
   "source": [
    "# Segmenting and Clustering Neighborhoods in Toronto"
   ]
  },
  {
   "cell_type": "markdown",
   "metadata": {},
   "source": [
    "Here starts the \"Segmenting and Clustering Neighborhoods in Toronto\" Project"
   ]
  },
  {
   "cell_type": "markdown",
   "metadata": {},
   "source": [
    "## Exploration"
   ]
  },
  {
   "cell_type": "markdown",
   "metadata": {},
   "source": [
    "### Scraping data from WikiPedia"
   ]
  },
  {
   "cell_type": "markdown",
   "metadata": {},
   "source": [
    "Importing requested modules"
   ]
  },
  {
   "cell_type": "code",
   "execution_count": 40,
   "metadata": {},
   "outputs": [],
   "source": [
    "import requests\n",
    "import pandas as pd"
   ]
  },
  {
   "cell_type": "markdown",
   "metadata": {},
   "source": [
    "Reading the table from wikipedia page"
   ]
  },
  {
   "cell_type": "code",
   "execution_count": 41,
   "metadata": {},
   "outputs": [],
   "source": [
    "# Webpage url                                                                                                               \n",
    "url = 'https://en.wikipedia.org/wiki/List_of_postal_codes_of_Canada:_M'\n",
    "\n",
    "# Extract tables\n",
    "dfs = pd.read_html(url)\n",
    "\n",
    "# Get first table                                                                                                           \n",
    "df_raw = dfs[0]"
   ]
  },
  {
   "cell_type": "markdown",
   "metadata": {},
   "source": [
    "Removing \"Not assigned\" rows"
   ]
  },
  {
   "cell_type": "code",
   "execution_count": 42,
   "metadata": {},
   "outputs": [],
   "source": [
    "# Remove Not Assigned\n",
    "df = df_raw[df_raw['Borough'] != 'Not assigned'].reset_index(drop=True)"
   ]
  },
  {
   "cell_type": "markdown",
   "metadata": {},
   "source": [
    "Let's have a look at the table"
   ]
  },
  {
   "cell_type": "code",
   "execution_count": 43,
   "metadata": {},
   "outputs": [
    {
     "data": {
      "text/plain": [
       "(103, 3)"
      ]
     },
     "execution_count": 43,
     "metadata": {},
     "output_type": "execute_result"
    }
   ],
   "source": [
    "df.shape"
   ]
  },
  {
   "cell_type": "code",
   "execution_count": 44,
   "metadata": {},
   "outputs": [
    {
     "data": {
      "text/html": [
       "<div>\n",
       "<style scoped>\n",
       "    .dataframe tbody tr th:only-of-type {\n",
       "        vertical-align: middle;\n",
       "    }\n",
       "\n",
       "    .dataframe tbody tr th {\n",
       "        vertical-align: top;\n",
       "    }\n",
       "\n",
       "    .dataframe thead th {\n",
       "        text-align: right;\n",
       "    }\n",
       "</style>\n",
       "<table border=\"1\" class=\"dataframe\">\n",
       "  <thead>\n",
       "    <tr style=\"text-align: right;\">\n",
       "      <th></th>\n",
       "      <th>Postal Code</th>\n",
       "      <th>Borough</th>\n",
       "      <th>Neighborhood</th>\n",
       "    </tr>\n",
       "  </thead>\n",
       "  <tbody>\n",
       "    <tr>\n",
       "      <th>0</th>\n",
       "      <td>M3A</td>\n",
       "      <td>North York</td>\n",
       "      <td>Parkwoods</td>\n",
       "    </tr>\n",
       "    <tr>\n",
       "      <th>1</th>\n",
       "      <td>M4A</td>\n",
       "      <td>North York</td>\n",
       "      <td>Victoria Village</td>\n",
       "    </tr>\n",
       "    <tr>\n",
       "      <th>2</th>\n",
       "      <td>M5A</td>\n",
       "      <td>Downtown Toronto</td>\n",
       "      <td>Regent Park, Harbourfront</td>\n",
       "    </tr>\n",
       "    <tr>\n",
       "      <th>3</th>\n",
       "      <td>M6A</td>\n",
       "      <td>North York</td>\n",
       "      <td>Lawrence Manor, Lawrence Heights</td>\n",
       "    </tr>\n",
       "    <tr>\n",
       "      <th>4</th>\n",
       "      <td>M7A</td>\n",
       "      <td>Downtown Toronto</td>\n",
       "      <td>Queen's Park, Ontario Provincial Government</td>\n",
       "    </tr>\n",
       "  </tbody>\n",
       "</table>\n",
       "</div>"
      ],
      "text/plain": [
       "  Postal Code           Borough                                 Neighborhood\n",
       "0         M3A        North York                                    Parkwoods\n",
       "1         M4A        North York                             Victoria Village\n",
       "2         M5A  Downtown Toronto                    Regent Park, Harbourfront\n",
       "3         M6A        North York             Lawrence Manor, Lawrence Heights\n",
       "4         M7A  Downtown Toronto  Queen's Park, Ontario Provincial Government"
      ]
     },
     "execution_count": 44,
     "metadata": {},
     "output_type": "execute_result"
    }
   ],
   "source": [
    "df.head()"
   ]
  },
  {
   "cell_type": "code",
   "execution_count": 45,
   "metadata": {},
   "outputs": [
    {
     "data": {
      "text/html": [
       "<div>\n",
       "<style scoped>\n",
       "    .dataframe tbody tr th:only-of-type {\n",
       "        vertical-align: middle;\n",
       "    }\n",
       "\n",
       "    .dataframe tbody tr th {\n",
       "        vertical-align: top;\n",
       "    }\n",
       "\n",
       "    .dataframe thead th {\n",
       "        text-align: right;\n",
       "    }\n",
       "</style>\n",
       "<table border=\"1\" class=\"dataframe\">\n",
       "  <thead>\n",
       "    <tr style=\"text-align: right;\">\n",
       "      <th></th>\n",
       "      <th>Postal Code</th>\n",
       "      <th>Borough</th>\n",
       "      <th>Neighborhood</th>\n",
       "    </tr>\n",
       "  </thead>\n",
       "  <tbody>\n",
       "    <tr>\n",
       "      <th>count</th>\n",
       "      <td>103</td>\n",
       "      <td>103</td>\n",
       "      <td>103</td>\n",
       "    </tr>\n",
       "    <tr>\n",
       "      <th>unique</th>\n",
       "      <td>103</td>\n",
       "      <td>10</td>\n",
       "      <td>99</td>\n",
       "    </tr>\n",
       "    <tr>\n",
       "      <th>top</th>\n",
       "      <td>M6K</td>\n",
       "      <td>North York</td>\n",
       "      <td>Downsview</td>\n",
       "    </tr>\n",
       "    <tr>\n",
       "      <th>freq</th>\n",
       "      <td>1</td>\n",
       "      <td>24</td>\n",
       "      <td>4</td>\n",
       "    </tr>\n",
       "  </tbody>\n",
       "</table>\n",
       "</div>"
      ],
      "text/plain": [
       "       Postal Code     Borough Neighborhood\n",
       "count          103         103          103\n",
       "unique         103          10           99\n",
       "top            M6K  North York    Downsview\n",
       "freq             1          24            4"
      ]
     },
     "execution_count": 45,
     "metadata": {},
     "output_type": "execute_result"
    }
   ],
   "source": [
    "df.describe()"
   ]
  },
  {
   "cell_type": "markdown",
   "metadata": {},
   "source": [
    "### Adding latitude and longitude\n",
    "Import the lat and long csv file (Geocoder not working properly)"
   ]
  },
  {
   "cell_type": "code",
   "execution_count": 46,
   "metadata": {},
   "outputs": [
    {
     "data": {
      "text/html": [
       "<div>\n",
       "<style scoped>\n",
       "    .dataframe tbody tr th:only-of-type {\n",
       "        vertical-align: middle;\n",
       "    }\n",
       "\n",
       "    .dataframe tbody tr th {\n",
       "        vertical-align: top;\n",
       "    }\n",
       "\n",
       "    .dataframe thead th {\n",
       "        text-align: right;\n",
       "    }\n",
       "</style>\n",
       "<table border=\"1\" class=\"dataframe\">\n",
       "  <thead>\n",
       "    <tr style=\"text-align: right;\">\n",
       "      <th></th>\n",
       "      <th>Postal Code</th>\n",
       "      <th>Latitude</th>\n",
       "      <th>Longitude</th>\n",
       "    </tr>\n",
       "  </thead>\n",
       "  <tbody>\n",
       "    <tr>\n",
       "      <th>0</th>\n",
       "      <td>M1B</td>\n",
       "      <td>43.806686</td>\n",
       "      <td>-79.194353</td>\n",
       "    </tr>\n",
       "    <tr>\n",
       "      <th>1</th>\n",
       "      <td>M1C</td>\n",
       "      <td>43.784535</td>\n",
       "      <td>-79.160497</td>\n",
       "    </tr>\n",
       "    <tr>\n",
       "      <th>2</th>\n",
       "      <td>M1E</td>\n",
       "      <td>43.763573</td>\n",
       "      <td>-79.188711</td>\n",
       "    </tr>\n",
       "    <tr>\n",
       "      <th>3</th>\n",
       "      <td>M1G</td>\n",
       "      <td>43.770992</td>\n",
       "      <td>-79.216917</td>\n",
       "    </tr>\n",
       "    <tr>\n",
       "      <th>4</th>\n",
       "      <td>M1H</td>\n",
       "      <td>43.773136</td>\n",
       "      <td>-79.239476</td>\n",
       "    </tr>\n",
       "  </tbody>\n",
       "</table>\n",
       "</div>"
      ],
      "text/plain": [
       "  Postal Code   Latitude  Longitude\n",
       "0         M1B  43.806686 -79.194353\n",
       "1         M1C  43.784535 -79.160497\n",
       "2         M1E  43.763573 -79.188711\n",
       "3         M1G  43.770992 -79.216917\n",
       "4         M1H  43.773136 -79.239476"
      ]
     },
     "execution_count": 46,
     "metadata": {},
     "output_type": "execute_result"
    }
   ],
   "source": [
    "pc_coordinates=pd.read_csv('http://cocl.us/Geospatial_data')\n",
    "pc_coordinates.head()"
   ]
  },
  {
   "cell_type": "markdown",
   "metadata": {},
   "source": [
    "Now we join the two tables using 'Postal Code' as a key for joining"
   ]
  },
  {
   "cell_type": "code",
   "execution_count": 47,
   "metadata": {},
   "outputs": [],
   "source": [
    "df_full=df.set_index('Postal Code').join(pc_coordinates.set_index('Postal Code'))"
   ]
  },
  {
   "cell_type": "code",
   "execution_count": 48,
   "metadata": {},
   "outputs": [
    {
     "data": {
      "text/html": [
       "<div>\n",
       "<style scoped>\n",
       "    .dataframe tbody tr th:only-of-type {\n",
       "        vertical-align: middle;\n",
       "    }\n",
       "\n",
       "    .dataframe tbody tr th {\n",
       "        vertical-align: top;\n",
       "    }\n",
       "\n",
       "    .dataframe thead th {\n",
       "        text-align: right;\n",
       "    }\n",
       "</style>\n",
       "<table border=\"1\" class=\"dataframe\">\n",
       "  <thead>\n",
       "    <tr style=\"text-align: right;\">\n",
       "      <th></th>\n",
       "      <th>Postal Code</th>\n",
       "      <th>Borough</th>\n",
       "      <th>Neighborhood</th>\n",
       "      <th>Latitude</th>\n",
       "      <th>Longitude</th>\n",
       "    </tr>\n",
       "  </thead>\n",
       "  <tbody>\n",
       "    <tr>\n",
       "      <th>0</th>\n",
       "      <td>M3A</td>\n",
       "      <td>North York</td>\n",
       "      <td>Parkwoods</td>\n",
       "      <td>43.753259</td>\n",
       "      <td>-79.329656</td>\n",
       "    </tr>\n",
       "    <tr>\n",
       "      <th>1</th>\n",
       "      <td>M4A</td>\n",
       "      <td>North York</td>\n",
       "      <td>Victoria Village</td>\n",
       "      <td>43.725882</td>\n",
       "      <td>-79.315572</td>\n",
       "    </tr>\n",
       "    <tr>\n",
       "      <th>2</th>\n",
       "      <td>M5A</td>\n",
       "      <td>Downtown Toronto</td>\n",
       "      <td>Regent Park, Harbourfront</td>\n",
       "      <td>43.654260</td>\n",
       "      <td>-79.360636</td>\n",
       "    </tr>\n",
       "    <tr>\n",
       "      <th>3</th>\n",
       "      <td>M6A</td>\n",
       "      <td>North York</td>\n",
       "      <td>Lawrence Manor, Lawrence Heights</td>\n",
       "      <td>43.718518</td>\n",
       "      <td>-79.464763</td>\n",
       "    </tr>\n",
       "    <tr>\n",
       "      <th>4</th>\n",
       "      <td>M7A</td>\n",
       "      <td>Downtown Toronto</td>\n",
       "      <td>Queen's Park, Ontario Provincial Government</td>\n",
       "      <td>43.662301</td>\n",
       "      <td>-79.389494</td>\n",
       "    </tr>\n",
       "  </tbody>\n",
       "</table>\n",
       "</div>"
      ],
      "text/plain": [
       "  Postal Code           Borough                                 Neighborhood  \\\n",
       "0         M3A        North York                                    Parkwoods   \n",
       "1         M4A        North York                             Victoria Village   \n",
       "2         M5A  Downtown Toronto                    Regent Park, Harbourfront   \n",
       "3         M6A        North York             Lawrence Manor, Lawrence Heights   \n",
       "4         M7A  Downtown Toronto  Queen's Park, Ontario Provincial Government   \n",
       "\n",
       "    Latitude  Longitude  \n",
       "0  43.753259 -79.329656  \n",
       "1  43.725882 -79.315572  \n",
       "2  43.654260 -79.360636  \n",
       "3  43.718518 -79.464763  \n",
       "4  43.662301 -79.389494  "
      ]
     },
     "execution_count": 48,
     "metadata": {},
     "output_type": "execute_result"
    }
   ],
   "source": [
    "df_full.reset_index(inplace=True)\n",
    "df_full.head()"
   ]
  },
  {
   "cell_type": "code",
   "execution_count": 49,
   "metadata": {},
   "outputs": [
    {
     "data": {
      "text/plain": [
       "(103, 5)"
      ]
     },
     "execution_count": 49,
     "metadata": {},
     "output_type": "execute_result"
    }
   ],
   "source": [
    "df_full.shape"
   ]
  },
  {
   "cell_type": "markdown",
   "metadata": {},
   "source": [
    "### Exploring Neighborhood in the map"
   ]
  },
  {
   "cell_type": "markdown",
   "metadata": {},
   "source": [
    "#### Creating the map"
   ]
  },
  {
   "cell_type": "markdown",
   "metadata": {},
   "source": [
    "Importing requested module"
   ]
  },
  {
   "cell_type": "code",
   "execution_count": 50,
   "metadata": {},
   "outputs": [],
   "source": [
    "import folium # map rendering library"
   ]
  },
  {
   "cell_type": "markdown",
   "metadata": {},
   "source": [
    "Get only Boriugh containing 'Toronto'"
   ]
  },
  {
   "cell_type": "code",
   "execution_count": 59,
   "metadata": {},
   "outputs": [],
   "source": [
    "df_toronto = df_full[df_full['Borough'].str.contains(r'Toronto')].reset_index(drop=True)"
   ]
  },
  {
   "cell_type": "markdown",
   "metadata": {},
   "source": [
    "Creating a map of Toronto with Neighborhoods"
   ]
  },
  {
   "cell_type": "code",
   "execution_count": 60,
   "metadata": {},
   "outputs": [
    {
     "data": {
      "text/html": [
       "<div style=\"width:100%;\"><div style=\"position:relative;width:100%;height:0;padding-bottom:60%;\"><span style=\"color:#565656\">Make this Notebook Trusted to load map: File -> Trust Notebook</span><iframe src=\"about:blank\" style=\"position:absolute;width:100%;height:100%;left:0;top:0;border:none !important;\" data-html=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 onload=\"this.contentDocument.open();this.contentDocument.write(atob(this.getAttribute('data-html')));this.contentDocument.close();\" allowfullscreen webkitallowfullscreen mozallowfullscreen></iframe></div></div>"
      ],
      "text/plain": [
       "<folium.folium.Map at 0x12eabc10>"
      ]
     },
     "execution_count": 60,
     "metadata": {},
     "output_type": "execute_result"
    }
   ],
   "source": [
    "# create map of Manhattan using latitude and longitude values\n",
    "map_toronto = folium.Map(location=[43.6532, -79.3832], zoom_start=11)\n",
    "\n",
    "# add markers to map\n",
    "for lat, lng, label in zip(df_full['Latitude'], df_toronto['Longitude'], df_toronto['Neighborhood']):\n",
    "    label = folium.Popup(label, parse_html=True)\n",
    "    folium.CircleMarker(\n",
    "        [lat, lng],\n",
    "        radius=5,\n",
    "        popup=label,\n",
    "        color='blue',\n",
    "        fill=True,\n",
    "        fill_color='#3186cc',\n",
    "        fill_opacity=0.7,\n",
    "        parse_html=False).add_to(map_toronto)  \n",
    "    \n",
    "map_toronto"
   ]
  },
  {
   "cell_type": "markdown",
   "metadata": {},
   "source": [
    "#### Initialize foursquare credentials"
   ]
  },
  {
   "cell_type": "code",
   "execution_count": 63,
   "metadata": {},
   "outputs": [
    {
     "name": "stdout",
     "output_type": "stream",
     "text": [
      "Your credentails:\n",
      "CLIENT_ID: HDZNPM0PGJAW51WPPBQU521JFFGWY05PLE145J5BIEEQRCU2\n",
      "CLIENT_SECRET:CKZG5MJELFPC5MPLCTRCYSH141XAEQJXCB024MWYES2CLKEA\n"
     ]
    }
   ],
   "source": [
    "CLIENT_ID = 'HDZNPM0PGJAW51WPPBQU521JFFGWY05PLE145J5BIEEQRCU2' # your Foursquare ID\n",
    "CLIENT_SECRET = 'CKZG5MJELFPC5MPLCTRCYSH141XAEQJXCB024MWYES2CLKEA' # your Foursquare Secret\n",
    "VERSION = '20180605' # Foursquare API version\n",
    "\n",
    "print('Your credentails:')\n",
    "print('CLIENT_ID: ' + CLIENT_ID)\n",
    "print('CLIENT_SECRET:' + CLIENT_SECRET)"
   ]
  },
  {
   "cell_type": "markdown",
   "metadata": {},
   "source": [
    "#### Let's create a function to get the venues given lat and long"
   ]
  },
  {
   "cell_type": "code",
   "execution_count": 66,
   "metadata": {},
   "outputs": [],
   "source": [
    "def getNearbyVenues(names, latitudes, longitudes, radius=500):\n",
    "    \n",
    "    venues_list=[]\n",
    "    for name, lat, lng in zip(names, latitudes, longitudes):\n",
    "        print(name)\n",
    "            \n",
    "        # create the API request URL\n",
    "        url = 'https://api.foursquare.com/v2/venues/explore?&client_id={}&client_secret={}&v={}&ll={},{}&radius={}&limit={}'.format(\n",
    "            CLIENT_ID, \n",
    "            CLIENT_SECRET, \n",
    "            VERSION, \n",
    "            lat, \n",
    "            lng, \n",
    "            radius, \n",
    "            LIMIT)\n",
    "            \n",
    "        # make the GET request\n",
    "        results = requests.get(url).json()[\"response\"]['groups'][0]['items']\n",
    "        \n",
    "        # return only relevant information for each nearby venue\n",
    "        venues_list.append([(\n",
    "            name, \n",
    "            lat, \n",
    "            lng, \n",
    "            v['venue']['name'], \n",
    "            v['venue']['location']['lat'], \n",
    "            v['venue']['location']['lng'],  \n",
    "            v['venue']['categories'][0]['name']) for v in results])\n",
    "\n",
    "    nearby_venues = pd.DataFrame([item for venue_list in venues_list for item in venue_list])\n",
    "    nearby_venues.columns = ['Neighborhood', \n",
    "                  'Neighborhood Latitude', \n",
    "                  'Neighborhood Longitude', \n",
    "                  'Venue', \n",
    "                  'Venue Latitude', \n",
    "                  'Venue Longitude', \n",
    "                  'Venue Category']\n",
    "    \n",
    "    return(nearby_venues)"
   ]
  },
  {
   "cell_type": "markdown",
   "metadata": {},
   "source": [
    "#### Run the function above on each Neighborhood to get the venues"
   ]
  },
  {
   "cell_type": "code",
   "execution_count": 69,
   "metadata": {},
   "outputs": [
    {
     "name": "stdout",
     "output_type": "stream",
     "text": [
      "Regent Park, Harbourfront\n",
      "Queen's Park, Ontario Provincial Government\n",
      "Garden District, Ryerson\n",
      "St. James Town\n",
      "The Beaches\n",
      "Berczy Park\n",
      "Central Bay Street\n",
      "Christie\n",
      "Richmond, Adelaide, King\n",
      "Dufferin, Dovercourt Village\n",
      "Harbourfront East, Union Station, Toronto Islands\n",
      "Little Portugal, Trinity\n",
      "The Danforth West, Riverdale\n",
      "Toronto Dominion Centre, Design Exchange\n",
      "Brockton, Parkdale Village, Exhibition Place\n",
      "India Bazaar, The Beaches West\n",
      "Commerce Court, Victoria Hotel\n",
      "Studio District\n",
      "Lawrence Park\n",
      "Roselawn\n",
      "Davisville North\n",
      "Forest Hill North & West, Forest Hill Road Park\n",
      "High Park, The Junction South\n",
      "North Toronto West, Lawrence Park\n",
      "The Annex, North Midtown, Yorkville\n",
      "Parkdale, Roncesvalles\n",
      "Davisville\n",
      "University of Toronto, Harbord\n",
      "Runnymede, Swansea\n",
      "Moore Park, Summerhill East\n",
      "Kensington Market, Chinatown, Grange Park\n",
      "Summerhill West, Rathnelly, South Hill, Forest Hill SE, Deer Park\n",
      "CN Tower, King and Spadina, Railway Lands, Harbourfront West, Bathurst Quay, South Niagara, Island airport\n",
      "Rosedale\n",
      "Stn A PO Boxes\n",
      "St. James Town, Cabbagetown\n",
      "First Canadian Place, Underground city\n",
      "Church and Wellesley\n",
      "Business reply mail Processing Centre, South Central Letter Processing Plant Toronto\n"
     ]
    }
   ],
   "source": [
    "LIMIT = 100 # limit of number of venues returned by Foursquare API\n",
    "radius = 500 # define radius\n",
    "\n",
    "toronto_venues = getNearbyVenues(names=df_toronto['Neighborhood'],\n",
    "                                   latitudes=df_toronto['Latitude'],\n",
    "                                   longitudes=df_toronto['Longitude']\n",
    "                                  )"
   ]
  },
  {
   "cell_type": "code",
   "execution_count": 71,
   "metadata": {},
   "outputs": [
    {
     "data": {
      "text/html": [
       "<div>\n",
       "<style scoped>\n",
       "    .dataframe tbody tr th:only-of-type {\n",
       "        vertical-align: middle;\n",
       "    }\n",
       "\n",
       "    .dataframe tbody tr th {\n",
       "        vertical-align: top;\n",
       "    }\n",
       "\n",
       "    .dataframe thead th {\n",
       "        text-align: right;\n",
       "    }\n",
       "</style>\n",
       "<table border=\"1\" class=\"dataframe\">\n",
       "  <thead>\n",
       "    <tr style=\"text-align: right;\">\n",
       "      <th></th>\n",
       "      <th>Neighborhood</th>\n",
       "      <th>Neighborhood Latitude</th>\n",
       "      <th>Neighborhood Longitude</th>\n",
       "      <th>Venue</th>\n",
       "      <th>Venue Latitude</th>\n",
       "      <th>Venue Longitude</th>\n",
       "      <th>Venue Category</th>\n",
       "    </tr>\n",
       "  </thead>\n",
       "  <tbody>\n",
       "    <tr>\n",
       "      <th>0</th>\n",
       "      <td>Regent Park, Harbourfront</td>\n",
       "      <td>43.65426</td>\n",
       "      <td>-79.360636</td>\n",
       "      <td>Roselle Desserts</td>\n",
       "      <td>43.653447</td>\n",
       "      <td>-79.362017</td>\n",
       "      <td>Bakery</td>\n",
       "    </tr>\n",
       "    <tr>\n",
       "      <th>1</th>\n",
       "      <td>Regent Park, Harbourfront</td>\n",
       "      <td>43.65426</td>\n",
       "      <td>-79.360636</td>\n",
       "      <td>Tandem Coffee</td>\n",
       "      <td>43.653559</td>\n",
       "      <td>-79.361809</td>\n",
       "      <td>Coffee Shop</td>\n",
       "    </tr>\n",
       "    <tr>\n",
       "      <th>2</th>\n",
       "      <td>Regent Park, Harbourfront</td>\n",
       "      <td>43.65426</td>\n",
       "      <td>-79.360636</td>\n",
       "      <td>Morning Glory Cafe</td>\n",
       "      <td>43.653947</td>\n",
       "      <td>-79.361149</td>\n",
       "      <td>Breakfast Spot</td>\n",
       "    </tr>\n",
       "    <tr>\n",
       "      <th>3</th>\n",
       "      <td>Regent Park, Harbourfront</td>\n",
       "      <td>43.65426</td>\n",
       "      <td>-79.360636</td>\n",
       "      <td>Cooper Koo Family YMCA</td>\n",
       "      <td>43.653249</td>\n",
       "      <td>-79.358008</td>\n",
       "      <td>Distribution Center</td>\n",
       "    </tr>\n",
       "    <tr>\n",
       "      <th>4</th>\n",
       "      <td>Regent Park, Harbourfront</td>\n",
       "      <td>43.65426</td>\n",
       "      <td>-79.360636</td>\n",
       "      <td>Body Blitz Spa East</td>\n",
       "      <td>43.654735</td>\n",
       "      <td>-79.359874</td>\n",
       "      <td>Spa</td>\n",
       "    </tr>\n",
       "    <tr>\n",
       "      <th>5</th>\n",
       "      <td>Regent Park, Harbourfront</td>\n",
       "      <td>43.65426</td>\n",
       "      <td>-79.360636</td>\n",
       "      <td>Impact Kitchen</td>\n",
       "      <td>43.656369</td>\n",
       "      <td>-79.356980</td>\n",
       "      <td>Restaurant</td>\n",
       "    </tr>\n",
       "    <tr>\n",
       "      <th>6</th>\n",
       "      <td>Regent Park, Harbourfront</td>\n",
       "      <td>43.65426</td>\n",
       "      <td>-79.360636</td>\n",
       "      <td>Corktown Common</td>\n",
       "      <td>43.655618</td>\n",
       "      <td>-79.356211</td>\n",
       "      <td>Park</td>\n",
       "    </tr>\n",
       "    <tr>\n",
       "      <th>7</th>\n",
       "      <td>Regent Park, Harbourfront</td>\n",
       "      <td>43.65426</td>\n",
       "      <td>-79.360636</td>\n",
       "      <td>The Extension Room</td>\n",
       "      <td>43.653313</td>\n",
       "      <td>-79.359725</td>\n",
       "      <td>Gym / Fitness Center</td>\n",
       "    </tr>\n",
       "    <tr>\n",
       "      <th>8</th>\n",
       "      <td>Regent Park, Harbourfront</td>\n",
       "      <td>43.65426</td>\n",
       "      <td>-79.360636</td>\n",
       "      <td>The Distillery Historic District</td>\n",
       "      <td>43.650244</td>\n",
       "      <td>-79.359323</td>\n",
       "      <td>Historic Site</td>\n",
       "    </tr>\n",
       "    <tr>\n",
       "      <th>9</th>\n",
       "      <td>Regent Park, Harbourfront</td>\n",
       "      <td>43.65426</td>\n",
       "      <td>-79.360636</td>\n",
       "      <td>Figs Breakfast &amp; Lunch</td>\n",
       "      <td>43.655675</td>\n",
       "      <td>-79.364503</td>\n",
       "      <td>Breakfast Spot</td>\n",
       "    </tr>\n",
       "    <tr>\n",
       "      <th>10</th>\n",
       "      <td>Regent Park, Harbourfront</td>\n",
       "      <td>43.65426</td>\n",
       "      <td>-79.360636</td>\n",
       "      <td>Distillery Sunday Market</td>\n",
       "      <td>43.650075</td>\n",
       "      <td>-79.361832</td>\n",
       "      <td>Farmers Market</td>\n",
       "    </tr>\n",
       "    <tr>\n",
       "      <th>11</th>\n",
       "      <td>Regent Park, Harbourfront</td>\n",
       "      <td>43.65426</td>\n",
       "      <td>-79.360636</td>\n",
       "      <td>SOMA chocolatemaker</td>\n",
       "      <td>43.650622</td>\n",
       "      <td>-79.358127</td>\n",
       "      <td>Chocolate Shop</td>\n",
       "    </tr>\n",
       "    <tr>\n",
       "      <th>12</th>\n",
       "      <td>Regent Park, Harbourfront</td>\n",
       "      <td>43.65426</td>\n",
       "      <td>-79.360636</td>\n",
       "      <td>Rooster Coffee</td>\n",
       "      <td>43.651900</td>\n",
       "      <td>-79.365609</td>\n",
       "      <td>Coffee Shop</td>\n",
       "    </tr>\n",
       "    <tr>\n",
       "      <th>13</th>\n",
       "      <td>Regent Park, Harbourfront</td>\n",
       "      <td>43.65426</td>\n",
       "      <td>-79.360636</td>\n",
       "      <td>Starbucks</td>\n",
       "      <td>43.651613</td>\n",
       "      <td>-79.364917</td>\n",
       "      <td>Coffee Shop</td>\n",
       "    </tr>\n",
       "    <tr>\n",
       "      <th>14</th>\n",
       "      <td>Regent Park, Harbourfront</td>\n",
       "      <td>43.65426</td>\n",
       "      <td>-79.360636</td>\n",
       "      <td>Dominion Pub and Kitchen</td>\n",
       "      <td>43.656919</td>\n",
       "      <td>-79.358967</td>\n",
       "      <td>Pub</td>\n",
       "    </tr>\n",
       "    <tr>\n",
       "      <th>15</th>\n",
       "      <td>Regent Park, Harbourfront</td>\n",
       "      <td>43.65426</td>\n",
       "      <td>-79.360636</td>\n",
       "      <td>Arvo</td>\n",
       "      <td>43.649963</td>\n",
       "      <td>-79.361442</td>\n",
       "      <td>Coffee Shop</td>\n",
       "    </tr>\n",
       "    <tr>\n",
       "      <th>16</th>\n",
       "      <td>Regent Park, Harbourfront</td>\n",
       "      <td>43.65426</td>\n",
       "      <td>-79.360636</td>\n",
       "      <td>Young Centre for the Performing Arts</td>\n",
       "      <td>43.650825</td>\n",
       "      <td>-79.357593</td>\n",
       "      <td>Performing Arts Venue</td>\n",
       "    </tr>\n",
       "    <tr>\n",
       "      <th>17</th>\n",
       "      <td>Regent Park, Harbourfront</td>\n",
       "      <td>43.65426</td>\n",
       "      <td>-79.360636</td>\n",
       "      <td>Underpass Park</td>\n",
       "      <td>43.655764</td>\n",
       "      <td>-79.354806</td>\n",
       "      <td>Park</td>\n",
       "    </tr>\n",
       "    <tr>\n",
       "      <th>18</th>\n",
       "      <td>Regent Park, Harbourfront</td>\n",
       "      <td>43.65426</td>\n",
       "      <td>-79.360636</td>\n",
       "      <td>Cacao 70</td>\n",
       "      <td>43.650067</td>\n",
       "      <td>-79.360723</td>\n",
       "      <td>Dessert Shop</td>\n",
       "    </tr>\n",
       "    <tr>\n",
       "      <th>19</th>\n",
       "      <td>Regent Park, Harbourfront</td>\n",
       "      <td>43.65426</td>\n",
       "      <td>-79.360636</td>\n",
       "      <td>Sumach Espresso</td>\n",
       "      <td>43.658135</td>\n",
       "      <td>-79.359515</td>\n",
       "      <td>Coffee Shop</td>\n",
       "    </tr>\n",
       "  </tbody>\n",
       "</table>\n",
       "</div>"
      ],
      "text/plain": [
       "                 Neighborhood  Neighborhood Latitude  Neighborhood Longitude  \\\n",
       "0   Regent Park, Harbourfront               43.65426              -79.360636   \n",
       "1   Regent Park, Harbourfront               43.65426              -79.360636   \n",
       "2   Regent Park, Harbourfront               43.65426              -79.360636   \n",
       "3   Regent Park, Harbourfront               43.65426              -79.360636   \n",
       "4   Regent Park, Harbourfront               43.65426              -79.360636   \n",
       "5   Regent Park, Harbourfront               43.65426              -79.360636   \n",
       "6   Regent Park, Harbourfront               43.65426              -79.360636   \n",
       "7   Regent Park, Harbourfront               43.65426              -79.360636   \n",
       "8   Regent Park, Harbourfront               43.65426              -79.360636   \n",
       "9   Regent Park, Harbourfront               43.65426              -79.360636   \n",
       "10  Regent Park, Harbourfront               43.65426              -79.360636   \n",
       "11  Regent Park, Harbourfront               43.65426              -79.360636   \n",
       "12  Regent Park, Harbourfront               43.65426              -79.360636   \n",
       "13  Regent Park, Harbourfront               43.65426              -79.360636   \n",
       "14  Regent Park, Harbourfront               43.65426              -79.360636   \n",
       "15  Regent Park, Harbourfront               43.65426              -79.360636   \n",
       "16  Regent Park, Harbourfront               43.65426              -79.360636   \n",
       "17  Regent Park, Harbourfront               43.65426              -79.360636   \n",
       "18  Regent Park, Harbourfront               43.65426              -79.360636   \n",
       "19  Regent Park, Harbourfront               43.65426              -79.360636   \n",
       "\n",
       "                                   Venue  Venue Latitude  Venue Longitude  \\\n",
       "0                       Roselle Desserts       43.653447       -79.362017   \n",
       "1                          Tandem Coffee       43.653559       -79.361809   \n",
       "2                     Morning Glory Cafe       43.653947       -79.361149   \n",
       "3                 Cooper Koo Family YMCA       43.653249       -79.358008   \n",
       "4                    Body Blitz Spa East       43.654735       -79.359874   \n",
       "5                         Impact Kitchen       43.656369       -79.356980   \n",
       "6                        Corktown Common       43.655618       -79.356211   \n",
       "7                     The Extension Room       43.653313       -79.359725   \n",
       "8       The Distillery Historic District       43.650244       -79.359323   \n",
       "9                 Figs Breakfast & Lunch       43.655675       -79.364503   \n",
       "10              Distillery Sunday Market       43.650075       -79.361832   \n",
       "11                   SOMA chocolatemaker       43.650622       -79.358127   \n",
       "12                        Rooster Coffee       43.651900       -79.365609   \n",
       "13                             Starbucks       43.651613       -79.364917   \n",
       "14              Dominion Pub and Kitchen       43.656919       -79.358967   \n",
       "15                                  Arvo       43.649963       -79.361442   \n",
       "16  Young Centre for the Performing Arts       43.650825       -79.357593   \n",
       "17                        Underpass Park       43.655764       -79.354806   \n",
       "18                              Cacao 70       43.650067       -79.360723   \n",
       "19                       Sumach Espresso       43.658135       -79.359515   \n",
       "\n",
       "           Venue Category  \n",
       "0                  Bakery  \n",
       "1             Coffee Shop  \n",
       "2          Breakfast Spot  \n",
       "3     Distribution Center  \n",
       "4                     Spa  \n",
       "5              Restaurant  \n",
       "6                    Park  \n",
       "7    Gym / Fitness Center  \n",
       "8           Historic Site  \n",
       "9          Breakfast Spot  \n",
       "10         Farmers Market  \n",
       "11         Chocolate Shop  \n",
       "12            Coffee Shop  \n",
       "13            Coffee Shop  \n",
       "14                    Pub  \n",
       "15            Coffee Shop  \n",
       "16  Performing Arts Venue  \n",
       "17                   Park  \n",
       "18           Dessert Shop  \n",
       "19            Coffee Shop  "
      ]
     },
     "execution_count": 71,
     "metadata": {},
     "output_type": "execute_result"
    }
   ],
   "source": [
    "toronto_venues.head(20)"
   ]
  },
  {
   "cell_type": "code",
   "execution_count": null,
   "metadata": {},
   "outputs": [],
   "source": []
  }
 ],
 "metadata": {
  "kernelspec": {
   "display_name": "Python 3",
   "language": "python",
   "name": "python3"
  },
  "language_info": {
   "codemirror_mode": {
    "name": "ipython",
    "version": 3
   },
   "file_extension": ".py",
   "mimetype": "text/x-python",
   "name": "python",
   "nbconvert_exporter": "python",
   "pygments_lexer": "ipython3",
   "version": "3.8.2"
  }
 },
 "nbformat": 4,
 "nbformat_minor": 4
}
